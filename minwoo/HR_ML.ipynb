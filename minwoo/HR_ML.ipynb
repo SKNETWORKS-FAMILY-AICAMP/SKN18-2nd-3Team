{
 "cells": [
  {
   "cell_type": "markdown",
   "id": "97bc0125",
   "metadata": {},
   "source": [
    "# 만들고자 하는 것 : HR Analytics: Job Change of Data Scientists의 Feature 분석\n",
    "---\n",
    "# 필요한 기능들 \n",
    "1. HR Analytics: Job Change of Data Scientists 데이터셋 로드 \n",
    "2. 데이터전처리 \n",
    "  - 데이터셋을 분석(EDA)\n",
    "  - 데이터셋 클린징(결측치, 중복데이터, 왜도/첨도)\n",
    "  - 학습에 도움이되는 feature 생성 \n",
    "  - 범주형 데이터를 숫자형 데이터로 변환 \n",
    "  - 숫자 데이터의 범위를 통일(scaling)\n",
    "  - (옵션) unbalance dataset인 경우, 처리 필요\n",
    "3. 모델링 \n",
    "  - 모델 생성\n",
    "  - 하이퍼 파라미터 튜닝 \n",
    "  - cross validation 진행 \n",
    "4. 평가 \n",
    "  - underfitting / overfitting \n",
    "  - matrix(평가지표)를 이용해서 점수 확인 "
   ]
  },
  {
   "cell_type": "markdown",
   "id": "35ea0645",
   "metadata": {},
   "source": [
    "# 1. HR Analytics: Job Change of Data Scientists 데이터셋 로드하기"
   ]
  },
  {
   "cell_type": "code",
   "execution_count": 1,
   "id": "1feda78b",
   "metadata": {},
   "outputs": [],
   "source": [
    "#필요한 패키지 다운로드\n",
    "import pandas as pd\n",
    "from pathlib import Path"
   ]
  },
  {
   "cell_type": "code",
   "execution_count": 5,
   "id": "e1157c03",
   "metadata": {},
   "outputs": [],
   "source": [
    "#데이터 경로 지정\n",
    "DATA_PATH = Path(\"./Data\")\n",
    "train_path = DATA_PATH/\"aug_train.csv\"\n",
    "test_path = DATA_PATH/\"aug_test_csv\"\n",
    "submission_path = DATA_PATH/\"sample_submission.csv\"\n"
   ]
  },
  {
   "cell_type": "code",
   "execution_count": null,
   "id": "0781119c",
   "metadata": {},
   "outputs": [],
   "source": [
    "#pandas로 파일 읽기\n",
    "df_train = pd.read_csv(train_path)\n",
    "df_test = pd.read_csv(test_path)\n",
    "df_submission"
   ]
  }
 ],
 "metadata": {
  "kernelspec": {
   "display_name": ".venv",
   "language": "python",
   "name": "python3"
  },
  "language_info": {
   "codemirror_mode": {
    "name": "ipython",
    "version": 3
   },
   "file_extension": ".py",
   "mimetype": "text/x-python",
   "name": "python",
   "nbconvert_exporter": "python",
   "pygments_lexer": "ipython3",
   "version": "3.13.5"
  }
 },
 "nbformat": 4,
 "nbformat_minor": 5
}
