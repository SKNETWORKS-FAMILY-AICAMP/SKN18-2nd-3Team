{
 "cells": [
  {
   "cell_type": "markdown",
   "id": "97bc0125",
   "metadata": {},
   "source": [
    "# 만들고자 하는 것 : HR Analytics: Job Change of Data Scientists의 Feature 분석\n",
    "---\n",
    "# 필요한 기능들 \n",
    "1. HR Analytics: Job Change of Data Scientists 데이터셋 로드 \n",
    "2. 데이터전처리 \n",
    "  - 데이터셋을 분석(EDA)\n",
    "  - 데이터셋 클린징(결측치, 중복데이터, 왜도/첨도)\n",
    "  - 학습에 도움이되는 feature 생성 \n",
    "  - 범주형 데이터를 숫자형 데이터로 변환 \n",
    "  - 숫자 데이터의 범위를 통일(scaling)\n",
    "  - (옵션) unbalance dataset인 경우, 처리 필요\n",
    "3. 모델링 \n",
    "  - 모델 생성\n",
    "  - 하이퍼 파라미터 튜닝 \n",
    "  - cross validation 진행 \n",
    "4. 평가 \n",
    "  - underfitting / overfitting \n",
    "  - matrix(평가지표)를 이용해서 점수 확인 "
   ]
  },
  {
   "cell_type": "code",
   "execution_count": null,
   "id": "1feda78b",
   "metadata": {},
   "outputs": [],
   "source": []
  }
 ],
 "metadata": {
  "kernelspec": {
   "display_name": ".venv",
   "language": "python",
   "name": "python3"
  },
  "language_info": {
   "name": "python",
   "version": "3.13.5"
  }
 },
 "nbformat": 4,
 "nbformat_minor": 5
}
